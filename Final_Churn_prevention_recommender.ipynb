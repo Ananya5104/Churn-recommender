{
 "cells": [
  {
   "cell_type": "code",
   "execution_count": null,
   "metadata": {
    "id": "b-6k-l4NLLet"
   },
   "outputs": [],
   "source": [
    "!pip install catboost\n",
    "!pip install imblearn"
   ]
  },
  {
   "cell_type": "markdown",
   "metadata": {
    "id": "0Hky_Lmha5BX"
   },
   "source": [
    "# **Importing the dataset**\n",
    "Checking no. of consumers who churned and who stayed\n",
    "\n",
    "Check the shape of dataframe\n",
    "\n",
    "Check info (data types of columns)"
   ]
  },
  {
   "cell_type": "code",
   "execution_count": 1,
   "metadata": {
    "colab": {
     "base_uri": "https://localhost:8080/"
    },
    "id": "tKPD6-lhWQ1z",
    "outputId": "a4a1b776-469f-43ca-d53d-cd2d0018d793"
   },
   "outputs": [
    {
     "name": "stdout",
     "output_type": "stream",
     "text": [
      "no. of churned customer : \n",
      "1869\n",
      "\n",
      "no. of satisfied customer : \n",
      "5174\n",
      "\n",
      "total consumers : \n",
      "7043\n"
     ]
    }
   ],
   "source": [
    "import pandas as pd\n",
    "df = pd.read_csv('WA_Fn-UseC_-Telco-Customer-Churn.csv')\n",
    "\n",
    "print(\"no. of churned customer : \" )\n",
    "print(df[df['Churn']=='Yes'].value_counts().sum())\n",
    "print(\"\\nno. of satisfied customer : \" )\n",
    "print(df[df['Churn']=='No'].value_counts().sum())\n",
    "\n",
    "print(\"\\ntotal consumers : \")\n",
    "print(df.shape[0])"
   ]
  },
  {
   "cell_type": "code",
   "execution_count": 123,
   "metadata": {
    "colab": {
     "base_uri": "https://localhost:8080/"
    },
    "id": "YoooSMe5XE0w",
    "outputId": "82b360a9-cbc9-4cd9-d461-7e21a26af907"
   },
   "outputs": [
    {
     "name": "stdout",
     "output_type": "stream",
     "text": [
      "<class 'pandas.core.frame.DataFrame'>\n",
      "RangeIndex: 7043 entries, 0 to 7042\n",
      "Data columns (total 21 columns):\n",
      " #   Column            Non-Null Count  Dtype  \n",
      "---  ------            --------------  -----  \n",
      " 0   customerID        7043 non-null   object \n",
      " 1   gender            7043 non-null   object \n",
      " 2   SeniorCitizen     7043 non-null   int64  \n",
      " 3   Partner           7043 non-null   object \n",
      " 4   Dependents        7043 non-null   object \n",
      " 5   tenure            7043 non-null   int64  \n",
      " 6   PhoneService      7043 non-null   object \n",
      " 7   MultipleLines     7043 non-null   object \n",
      " 8   InternetService   7043 non-null   object \n",
      " 9   OnlineSecurity    7043 non-null   object \n",
      " 10  OnlineBackup      7043 non-null   object \n",
      " 11  DeviceProtection  7043 non-null   object \n",
      " 12  TechSupport       7043 non-null   object \n",
      " 13  StreamingTV       7043 non-null   object \n",
      " 14  StreamingMovies   7043 non-null   object \n",
      " 15  Contract          7043 non-null   object \n",
      " 16  PaperlessBilling  7043 non-null   object \n",
      " 17  PaymentMethod     7043 non-null   object \n",
      " 18  MonthlyCharges    7043 non-null   float64\n",
      " 19  TotalCharges      7043 non-null   object \n",
      " 20  Churn             7043 non-null   object \n",
      "dtypes: float64(1), int64(2), object(18)\n",
      "memory usage: 1.1+ MB\n",
      "None\n"
     ]
    }
   ],
   "source": [
    "print(df.info())"
   ]
  },
  {
   "cell_type": "code",
   "execution_count": 124,
   "metadata": {
    "colab": {
     "base_uri": "https://localhost:8080/"
    },
    "id": "pAc0aqXkXy_S",
    "outputId": "f0d390bf-1953-4e2a-c922-a072cf8d2958"
   },
   "outputs": [
    {
     "name": "stdout",
     "output_type": "stream",
     "text": [
      "      customerID  gender  SeniorCitizen Partner Dependents  tenure  \\\n",
      "4341  3754-DXMRT    Male              1      No         No       2   \n",
      "2589  7576-OYWBN    Male              1      No         No       3   \n",
      "2558  5380-XPJNZ  Female              0      No         No      38   \n",
      "5489  0804-XBFBV  Female              0      No        Yes      11   \n",
      "4657  6743-HHQPF    Male              0     Yes         No      42   \n",
      "\n",
      "     PhoneService     MultipleLines InternetService       OnlineSecurity  ...  \\\n",
      "4341          Yes                No             DSL                   No  ...   \n",
      "2589          Yes               Yes     Fiber optic                   No  ...   \n",
      "2558          Yes                No              No  No internet service  ...   \n",
      "5489           No  No phone service             DSL                   No  ...   \n",
      "4657           No  No phone service             DSL                   No  ...   \n",
      "\n",
      "         DeviceProtection          TechSupport          StreamingTV  \\\n",
      "4341                   No                   No                   No   \n",
      "2589                   No                   No                   No   \n",
      "2558  No internet service  No internet service  No internet service   \n",
      "5489                   No                   No                   No   \n",
      "4657                   No                   No                   No   \n",
      "\n",
      "          StreamingMovies        Contract PaperlessBilling  \\\n",
      "4341                   No  Month-to-month              Yes   \n",
      "2589                   No  Month-to-month              Yes   \n",
      "2558  No internet service        One year               No   \n",
      "5489                   No  Month-to-month               No   \n",
      "4657                   No  Month-to-month              Yes   \n",
      "\n",
      "                PaymentMethod MonthlyCharges  TotalCharges Churn  \n",
      "4341         Electronic check          44.15         92.65   Yes  \n",
      "2589         Electronic check          76.05         231.8   Yes  \n",
      "2558             Mailed check          20.05         678.2    No  \n",
      "5489         Electronic check          25.20        321.05    No  \n",
      "4657  Credit card (automatic)          25.10       1097.15    No  \n",
      "\n",
      "[5 rows x 21 columns]\n"
     ]
    }
   ],
   "source": [
    "print(df.sample(5))"
   ]
  },
  {
   "cell_type": "markdown",
   "metadata": {
    "id": "jdA5WUuSfU3Y"
   },
   "source": [
    "# **Pre-processing Techniques**\n",
    "Import all libraries and required functions\n",
    "\n",
    "Drop unnecessary features and replace missing values\n",
    "\n",
    "(OHE & LE) Encode categorical data into [0 or 1]\n",
    "\n",
    "Standardize the input data using standard_scaler\n",
    "\n",
    "Creating a balanced dataset using SMOTE (Synthetic Minority Oversampling Technique)"
   ]
  },
  {
   "cell_type": "code",
   "execution_count": 3,
   "metadata": {},
   "outputs": [
    {
     "name": "stdout",
     "output_type": "stream",
     "text": [
      "Collecting seaborn\n",
      "  Downloading seaborn-0.13.2-py3-none-any.whl.metadata (5.4 kB)\n",
      "Requirement already satisfied: numpy!=1.24.0,>=1.20 in e:\\ananya\\churn-recommender\\.venv\\lib\\site-packages (from seaborn) (1.26.4)\n",
      "Requirement already satisfied: pandas>=1.2 in e:\\ananya\\churn-recommender\\.venv\\lib\\site-packages (from seaborn) (2.2.3)\n",
      "Requirement already satisfied: matplotlib!=3.6.1,>=3.4 in e:\\ananya\\churn-recommender\\.venv\\lib\\site-packages (from seaborn) (3.9.2)\n",
      "Requirement already satisfied: contourpy>=1.0.1 in e:\\ananya\\churn-recommender\\.venv\\lib\\site-packages (from matplotlib!=3.6.1,>=3.4->seaborn) (1.3.1)\n",
      "Requirement already satisfied: cycler>=0.10 in e:\\ananya\\churn-recommender\\.venv\\lib\\site-packages (from matplotlib!=3.6.1,>=3.4->seaborn) (0.12.1)\n",
      "Requirement already satisfied: fonttools>=4.22.0 in e:\\ananya\\churn-recommender\\.venv\\lib\\site-packages (from matplotlib!=3.6.1,>=3.4->seaborn) (4.55.0)\n",
      "Requirement already satisfied: kiwisolver>=1.3.1 in e:\\ananya\\churn-recommender\\.venv\\lib\\site-packages (from matplotlib!=3.6.1,>=3.4->seaborn) (1.4.7)\n",
      "Requirement already satisfied: packaging>=20.0 in e:\\ananya\\churn-recommender\\.venv\\lib\\site-packages (from matplotlib!=3.6.1,>=3.4->seaborn) (24.2)\n",
      "Requirement already satisfied: pillow>=8 in e:\\ananya\\churn-recommender\\.venv\\lib\\site-packages (from matplotlib!=3.6.1,>=3.4->seaborn) (11.0.0)\n",
      "Requirement already satisfied: pyparsing>=2.3.1 in e:\\ananya\\churn-recommender\\.venv\\lib\\site-packages (from matplotlib!=3.6.1,>=3.4->seaborn) (3.2.0)\n",
      "Requirement already satisfied: python-dateutil>=2.7 in e:\\ananya\\churn-recommender\\.venv\\lib\\site-packages (from matplotlib!=3.6.1,>=3.4->seaborn) (2.9.0.post0)\n",
      "Requirement already satisfied: pytz>=2020.1 in e:\\ananya\\churn-recommender\\.venv\\lib\\site-packages (from pandas>=1.2->seaborn) (2024.2)\n",
      "Requirement already satisfied: tzdata>=2022.7 in e:\\ananya\\churn-recommender\\.venv\\lib\\site-packages (from pandas>=1.2->seaborn) (2024.2)\n",
      "Requirement already satisfied: six>=1.5 in e:\\ananya\\churn-recommender\\.venv\\lib\\site-packages (from python-dateutil>=2.7->matplotlib!=3.6.1,>=3.4->seaborn) (1.16.0)\n",
      "Downloading seaborn-0.13.2-py3-none-any.whl (294 kB)\n",
      "Installing collected packages: seaborn\n",
      "Successfully installed seaborn-0.13.2\n",
      "Note: you may need to restart the kernel to use updated packages.\n"
     ]
    }
   ],
   "source": [
    "pip install seaborn"
   ]
  },
  {
   "cell_type": "code",
   "execution_count": 4,
   "metadata": {
    "id": "PuyTMDMAOb88"
   },
   "outputs": [],
   "source": [
    "import pandas as pd\n",
    "import numpy as np\n",
    "import seaborn as sns\n",
    "from sklearn.preprocessing import StandardScaler, LabelEncoder\n",
    "from catboost import CatBoostClassifier\n",
    "from sklearn.metrics import (confusion_matrix, classification_report, accuracy_score, precision_score, roc_auc_score, f1_score, recall_score, roc_curve, auc, balanced_accuracy_score)\n",
    "from sklearn.model_selection import train_test_split\n",
    "import matplotlib.pyplot as plt\n",
    "from sklearn.pipeline import Pipeline\n",
    "from sklearn.compose import ColumnTransformer\n",
    "from sklearn.preprocessing import OneHotEncoder\n",
    "from sklearn.model_selection import GridSearchCV\n",
    "from imblearn.over_sampling import SMOTE\n",
    "from sklearn.metrics.pairwise import cosine_similarity"
   ]
  },
  {
   "cell_type": "code",
   "execution_count": 5,
   "metadata": {
    "colab": {
     "base_uri": "https://localhost:8080/"
    },
    "id": "sMajVbCrPJMB",
    "outputId": "c178b4f8-2f72-4d20-933e-f5fb832ae92d"
   },
   "outputs": [
    {
     "name": "stderr",
     "output_type": "stream",
     "text": [
      "C:\\Users\\Ananya\\AppData\\Local\\Temp\\ipykernel_56704\\156400559.py:3: FutureWarning: A value is trying to be set on a copy of a DataFrame or Series through chained assignment using an inplace method.\n",
      "The behavior will change in pandas 3.0. This inplace method will never work because the intermediate object on which we are setting values always behaves as a copy.\n",
      "\n",
      "For example, when doing 'df[col].method(value, inplace=True)', try using 'df.method({col: value}, inplace=True)' or df[col] = df[col].method(value) instead, to perform the operation inplace on the original object.\n",
      "\n",
      "\n",
      "  df['TotalCharges'].fillna(df['TotalCharges'].mean(), inplace=True)\n"
     ]
    }
   ],
   "source": [
    "df.drop('customerID', axis=1, inplace=True)\n",
    "df['TotalCharges'] = pd.to_numeric(df['TotalCharges'], errors='coerce')\n",
    "df['TotalCharges'].fillna(df['TotalCharges'].mean(), inplace=True)"
   ]
  },
  {
   "cell_type": "code",
   "execution_count": 6,
   "metadata": {
    "id": "yHQBLQPxPMOw"
   },
   "outputs": [],
   "source": [
    "df['MultipleLines'] = df['MultipleLines'].replace('No phone service', 'No')\n",
    "df = df.replace('No internet service', 'No')\n",
    "\n",
    "internet_columns = ['MultipleLines', 'InternetService', 'OnlineSecurity', 'OnlineBackup',\n",
    "                    'DeviceProtection', 'TechSupport', 'StreamingTV', 'StreamingMovies']\n",
    "\n",
    "# df = df.replace({'Yes': 1, 'No': 0})....................reduces accuracy maybe alters column which is not needed to be altered.\n",
    "columns = [\"Partner\",\"Dependents\",\"PhoneService\",\"OnlineSecurity\",\"OnlineBackup\",\"DeviceProtection\",\"TechSupport\",\"StreamingTV\",\"StreamingMovies\", \"PaperlessBilling\", \"Churn\" ]\n",
    "for i in columns:\n",
    "  df[i] = df[i].map({'Yes': 1, 'No': 0})"
   ]
  },
  {
   "cell_type": "code",
   "execution_count": 7,
   "metadata": {
    "id": "K51FGklWtqov"
   },
   "outputs": [],
   "source": [
    "binary_columns = ['gender']\n",
    "le = LabelEncoder()\n",
    "df[binary_columns] = df[binary_columns].apply(le.fit_transform)\n",
    "df = pd.get_dummies(df, columns=['MultipleLines', 'InternetService', 'Contract', 'PaymentMethod'])\n",
    "\n",
    "scaler = StandardScaler()\n",
    "numerical_features = ['tenure', 'MonthlyCharges', 'TotalCharges']\n",
    "df[numerical_features] = scaler.fit_transform(df[numerical_features])"
   ]
  },
  {
   "cell_type": "code",
   "execution_count": 8,
   "metadata": {
    "id": "wCGMz0p283aa"
   },
   "outputs": [
    {
     "name": "stderr",
     "output_type": "stream",
     "text": [
      "e:\\Ananya\\Churn-recommender\\.venv\\Lib\\site-packages\\joblib\\externals\\loky\\backend\\context.py:136: UserWarning: Could not find the number of physical cores for the following reason:\n",
      "found 0 physical cores < 1\n",
      "Returning the number of logical cores instead. You can silence this warning by setting LOKY_MAX_CPU_COUNT to the number of cores you want to use.\n",
      "  warnings.warn(\n",
      "  File \"e:\\Ananya\\Churn-recommender\\.venv\\Lib\\site-packages\\joblib\\externals\\loky\\backend\\context.py\", line 282, in _count_physical_cores\n",
      "    raise ValueError(f\"found {cpu_count_physical} physical cores < 1\")\n"
     ]
    }
   ],
   "source": [
    "X = df.drop('Churn', axis=1)\n",
    "y = df['Churn']\n",
    "smote = SMOTE(random_state=50)\n",
    "X_res, y_res = smote.fit_resample(X, y)\n",
    "X_train, X_test, y_train, y_test = train_test_split(X_res, y_res, test_size=0.2, random_state=48) #42 #48 - 0.8555555555555555"
   ]
  },
  {
   "cell_type": "code",
   "execution_count": 25,
   "metadata": {},
   "outputs": [],
   "source": [
    "model_columns = ['SeniorCitizen', 'tenure', 'MonthlyCharges', 'TotalCharges', 'gender_Female', 'gender_Male', \n",
    "                 'Partner_No', 'Partner_Yes', 'Dependents_No', 'Dependents_Yes', 'PhoneService_No', 'PhoneService_Yes',\n",
    "                 'MultipleLines_No', 'MultipleLines_No phone service', 'MultipleLines_Yes', 'InternetService_DSL', \n",
    "                 'InternetService_Fiber optic', 'InternetService_No', 'OnlineSecurity_No', 'OnlineSecurity_No internet service',\n",
    "                 'OnlineSecurity_Yes', 'OnlineBackup_No', 'OnlineBackup_No internet service', 'OnlineBackup_Yes', \n",
    "                 'DeviceProtection_No', 'DeviceProtection_No internet service', 'DeviceProtection_Yes', \n",
    "                 'TechSupport_No', 'TechSupport_No internet service', 'TechSupport_Yes', 'StreamingTV_No', \n",
    "                 'StreamingTV_No internet service', 'StreamingTV_Yes', 'StreamingMovies_No', \n",
    "                 'StreamingMovies_No internet service', 'StreamingMovies_Yes', 'Contract_Month-to-month', \n",
    "                 'Contract_One year', 'Contract_Two year', 'PaperlessBilling_No', 'PaperlessBilling_Yes', \n",
    "                 'PaymentMethod_Bank transfer (automatic)', 'PaymentMethod_Credit card (automatic)', \n",
    "                 'PaymentMethod_Electronic check', 'PaymentMethod_Mailed check']"
   ]
  },
  {
   "cell_type": "code",
   "execution_count": 26,
   "metadata": {},
   "outputs": [],
   "source": [
    "# Reorder the columns to match the model_columns order\n",
    "df = df[model_columns]\n",
    "\n",
    "# Split the data into train and test sets\n",
    "X_train, X_test, y_train, y_test = train_test_split(df, y, test_size=0.2, random_state=42)"
   ]
  },
  {
   "cell_type": "markdown",
   "metadata": {
    "id": "2MRUryDFmV9H"
   },
   "source": [
    "# **Implementing different kinds of Models**\n",
    "Importing all libraries\n",
    "\n",
    "Hyperparameter-tuning using GridSearchCV\n",
    "\n",
    "Choose the model which performs the best"
   ]
  },
  {
   "cell_type": "code",
   "execution_count": 10,
   "metadata": {},
   "outputs": [
    {
     "name": "stdout",
     "output_type": "stream",
     "text": [
      "Collecting xgboost\n",
      "  Using cached xgboost-2.1.2-py3-none-win_amd64.whl.metadata (2.1 kB)\n",
      "Requirement already satisfied: numpy in e:\\ananya\\churn-recommender\\.venv\\lib\\site-packages (from xgboost) (1.26.4)\n",
      "Requirement already satisfied: scipy in e:\\ananya\\churn-recommender\\.venv\\lib\\site-packages (from xgboost) (1.14.1)\n",
      "Using cached xgboost-2.1.2-py3-none-win_amd64.whl (124.9 MB)\n",
      "Installing collected packages: xgboost\n",
      "Successfully installed xgboost-2.1.2\n",
      "Note: you may need to restart the kernel to use updated packages.\n"
     ]
    }
   ],
   "source": [
    "pip install xgboost"
   ]
  },
  {
   "cell_type": "code",
   "execution_count": 11,
   "metadata": {
    "id": "LOFFQ3E6xHhp"
   },
   "outputs": [],
   "source": [
    "from sklearn.linear_model import LogisticRegression\n",
    "from sklearn.neighbors import KNeighborsClassifier\n",
    "from sklearn.pipeline import Pipeline\n",
    "from sklearn.compose import ColumnTransformer\n",
    "from sklearn.preprocessing import OneHotEncoder\n",
    "from sklearn.svm import SVC\n",
    "from catboost import CatBoostClassifier\n",
    "from sklearn.ensemble import GradientBoostingClassifier\n",
    "from sklearn.tree import DecisionTreeClassifier\n",
    "from sklearn.model_selection import train_test_split, KFold, GridSearchCV, RandomizedSearchCV, cross_val_score,cross_val_predict\n",
    "from sklearn.ensemble import RandomForestClassifier\n",
    "from xgboost import XGBClassifier"
   ]
  },
  {
   "cell_type": "code",
   "execution_count": 12,
   "metadata": {
    "colab": {
     "base_uri": "https://localhost:8080/"
    },
    "id": "Wl1N0FX8xT1l",
    "outputId": "21f64b57-1c30-4c66-c590-65c611cc3ead"
   },
   "outputs": [
    {
     "name": "stdout",
     "output_type": "stream",
     "text": [
      "Logistice Regression: Accuracy = 0.804913 \n",
      "K-nearest Neighbours: Accuracy = 0.765582 \n",
      "Decision Tree: Accuracy = 0.723408 \n",
      "Random Forest: Accuracy = 0.793834 \n",
      "Support Vector Machine: Accuracy = 0.798522 \n",
      "Gradient Boosting: Accuracy = 0.802780 \n"
     ]
    }
   ],
   "source": [
    "models = [('Logistice Regression', LogisticRegression(random_state=123456)),\n",
    "          ('K-nearest Neighbours', KNeighborsClassifier()),\n",
    "          ('Decision Tree', DecisionTreeClassifier(random_state=123456)),\n",
    "          ('Random Forest', RandomForestClassifier(random_state=123456)),\n",
    "          ('Support Vector Machine', SVC(gamma='auto',random_state=123456)),\n",
    "          ('Gradient Boosting', GradientBoostingClassifier(random_state = 12345))          ]\n",
    "results = []\n",
    "names = []\n",
    "for name, model in models:\n",
    "    kfold = KFold(n_splits=10, random_state=123456, shuffle = True)\n",
    "    cv_results = cross_val_score(model, X, y, cv=kfold)\n",
    "    results.append(cv_results)\n",
    "    names.append(name)\n",
    "    msg = \"%s: Accuracy = %f \" % (name, cv_results.mean())\n",
    "    print(msg)"
   ]
  },
  {
   "cell_type": "code",
   "execution_count": 13,
   "metadata": {
    "colab": {
     "base_uri": "https://localhost:8080/"
    },
    "id": "5hqf64DjwPit",
    "outputId": "6e4f505e-7341-40d4-dae2-c4663c3e5d5a"
   },
   "outputs": [
    {
     "name": "stdout",
     "output_type": "stream",
     "text": [
      "Accuracy of CatBoost Model after SMOTE: 0.8555555555555555\n"
     ]
    }
   ],
   "source": [
    "catboost_model = CatBoostClassifier(iterations=1000, depth=9, learning_rate=0.11, loss_function='Logloss', verbose=0)\n",
    "catboost_model.fit(X_train, y_train)\n",
    "y_pred = catboost_model.predict(X_test)\n",
    "accuracy = accuracy_score(y_test, y_pred)\n",
    "print(\"Accuracy of CatBoost Model after SMOTE:\", accuracy)"
   ]
  },
  {
   "cell_type": "code",
   "execution_count": 14,
   "metadata": {
    "colab": {
     "base_uri": "https://localhost:8080/"
    },
    "id": "rK03Qso3EE-Z",
    "outputId": "6a1c5104-06f6-483d-9313-b6f188f662b4"
   },
   "outputs": [
    {
     "name": "stdout",
     "output_type": "stream",
     "text": [
      "Random Forest Accuracy: 0.8570048309178744\n",
      "Gradient boosting Accuracy: 0.8478260869565217\n",
      "XGBoost Accuracy: 0.8429951690821256\n"
     ]
    }
   ],
   "source": [
    "model = RandomForestClassifier(random_state=52)\n",
    "model.fit(X_train, y_train)\n",
    "y_pred = model.predict(X_test)\n",
    "print(f\"Random Forest Accuracy: {accuracy_score(y_test, y_pred)}\")\n",
    "\n",
    "# .........................................................................................................\n",
    "\n",
    "gb_model = GradientBoostingClassifier(learning_rate = 0.1, random_state = 50, n_estimators = 200, min_samples_split = 6, max_depth = 7)\n",
    "gb_model.fit(X_train, y_train)\n",
    "gb_y_pred = gb_model.predict(X_test)\n",
    "print(f\"Gradient boosting Accuracy: {accuracy_score(y_test, gb_y_pred)}\")\n",
    "\n",
    "# .........................................................................................................\n",
    "\n",
    "xgb_model = XGBClassifier(learning_rate=0.1, random_state=100, n_estimators=100, subsample=0.8, max_depth=9)\n",
    "xgb_model.fit(X_train, y_train)\n",
    "xgb_y_pred = xgb_model.predict(X_test)\n",
    "print(f\"XGBoost Accuracy: {accuracy_score(y_test, xgb_y_pred)}\")"
   ]
  },
  {
   "cell_type": "markdown",
   "metadata": {
    "id": "hEw65N3fob-I"
   },
   "source": [
    "# **The best performing models were :**\n",
    "\n",
    "Random Forest Accuracy: 0.8579710144927536\n",
    "\n",
    "CatBoost Accuracy: 0.8623188405797102\n",
    "\n",
    "XGBoost Accuracy: 0.8555555555555555\n",
    "\n",
    "\n",
    "\n",
    "\n",
    "### Now we will choose Catboost as our model, **get the most Important features** and proceed further towards the **recommender system**"
   ]
  },
  {
   "cell_type": "code",
   "execution_count": 28,
   "metadata": {},
   "outputs": [
    {
     "data": {
      "text/html": [
       "<div>\n",
       "<style scoped>\n",
       "    .dataframe tbody tr th:only-of-type {\n",
       "        vertical-align: middle;\n",
       "    }\n",
       "\n",
       "    .dataframe tbody tr th {\n",
       "        vertical-align: top;\n",
       "    }\n",
       "\n",
       "    .dataframe thead th {\n",
       "        text-align: right;\n",
       "    }\n",
       "</style>\n",
       "<table border=\"1\" class=\"dataframe\">\n",
       "  <thead>\n",
       "    <tr style=\"text-align: right;\">\n",
       "      <th></th>\n",
       "      <th>SeniorCitizen</th>\n",
       "      <th>tenure</th>\n",
       "      <th>MonthlyCharges</th>\n",
       "      <th>TotalCharges</th>\n",
       "      <th>gender_Female</th>\n",
       "      <th>gender_Male</th>\n",
       "      <th>Partner_No</th>\n",
       "      <th>Partner_Yes</th>\n",
       "      <th>Dependents_No</th>\n",
       "      <th>Dependents_Yes</th>\n",
       "      <th>...</th>\n",
       "      <th>StreamingMovies_Yes</th>\n",
       "      <th>Contract_Month-to-month</th>\n",
       "      <th>Contract_One year</th>\n",
       "      <th>Contract_Two year</th>\n",
       "      <th>PaperlessBilling_No</th>\n",
       "      <th>PaperlessBilling_Yes</th>\n",
       "      <th>PaymentMethod_Bank transfer (automatic)</th>\n",
       "      <th>PaymentMethod_Credit card (automatic)</th>\n",
       "      <th>PaymentMethod_Electronic check</th>\n",
       "      <th>PaymentMethod_Mailed check</th>\n",
       "    </tr>\n",
       "  </thead>\n",
       "  <tbody>\n",
       "    <tr>\n",
       "      <th>2142</th>\n",
       "      <td>0</td>\n",
       "      <td>-0.463037</td>\n",
       "      <td>0.002935</td>\n",
       "      <td>-0.417911</td>\n",
       "      <td>0</td>\n",
       "      <td>0</td>\n",
       "      <td>0</td>\n",
       "      <td>0</td>\n",
       "      <td>0</td>\n",
       "      <td>0</td>\n",
       "      <td>...</td>\n",
       "      <td>0</td>\n",
       "      <td>False</td>\n",
       "      <td>True</td>\n",
       "      <td>False</td>\n",
       "      <td>0</td>\n",
       "      <td>0</td>\n",
       "      <td>False</td>\n",
       "      <td>False</td>\n",
       "      <td>False</td>\n",
       "      <td>True</td>\n",
       "    </tr>\n",
       "    <tr>\n",
       "      <th>1623</th>\n",
       "      <td>0</td>\n",
       "      <td>0.880735</td>\n",
       "      <td>1.078118</td>\n",
       "      <td>1.256667</td>\n",
       "      <td>0</td>\n",
       "      <td>0</td>\n",
       "      <td>0</td>\n",
       "      <td>0</td>\n",
       "      <td>0</td>\n",
       "      <td>0</td>\n",
       "      <td>...</td>\n",
       "      <td>0</td>\n",
       "      <td>False</td>\n",
       "      <td>False</td>\n",
       "      <td>True</td>\n",
       "      <td>0</td>\n",
       "      <td>0</td>\n",
       "      <td>True</td>\n",
       "      <td>False</td>\n",
       "      <td>False</td>\n",
       "      <td>False</td>\n",
       "    </tr>\n",
       "    <tr>\n",
       "      <th>6074</th>\n",
       "      <td>0</td>\n",
       "      <td>-1.277445</td>\n",
       "      <td>-1.373033</td>\n",
       "      <td>-0.997797</td>\n",
       "      <td>0</td>\n",
       "      <td>0</td>\n",
       "      <td>0</td>\n",
       "      <td>0</td>\n",
       "      <td>0</td>\n",
       "      <td>0</td>\n",
       "      <td>...</td>\n",
       "      <td>0</td>\n",
       "      <td>True</td>\n",
       "      <td>False</td>\n",
       "      <td>False</td>\n",
       "      <td>0</td>\n",
       "      <td>0</td>\n",
       "      <td>False</td>\n",
       "      <td>False</td>\n",
       "      <td>True</td>\n",
       "      <td>False</td>\n",
       "    </tr>\n",
       "    <tr>\n",
       "      <th>1362</th>\n",
       "      <td>0</td>\n",
       "      <td>-1.155283</td>\n",
       "      <td>0.180747</td>\n",
       "      <td>-0.903088</td>\n",
       "      <td>0</td>\n",
       "      <td>0</td>\n",
       "      <td>0</td>\n",
       "      <td>0</td>\n",
       "      <td>0</td>\n",
       "      <td>0</td>\n",
       "      <td>...</td>\n",
       "      <td>0</td>\n",
       "      <td>True</td>\n",
       "      <td>False</td>\n",
       "      <td>False</td>\n",
       "      <td>0</td>\n",
       "      <td>0</td>\n",
       "      <td>False</td>\n",
       "      <td>False</td>\n",
       "      <td>True</td>\n",
       "      <td>False</td>\n",
       "    </tr>\n",
       "    <tr>\n",
       "      <th>6754</th>\n",
       "      <td>0</td>\n",
       "      <td>-1.318165</td>\n",
       "      <td>-0.095111</td>\n",
       "      <td>0.000000</td>\n",
       "      <td>0</td>\n",
       "      <td>0</td>\n",
       "      <td>0</td>\n",
       "      <td>0</td>\n",
       "      <td>0</td>\n",
       "      <td>0</td>\n",
       "      <td>...</td>\n",
       "      <td>0</td>\n",
       "      <td>False</td>\n",
       "      <td>False</td>\n",
       "      <td>True</td>\n",
       "      <td>0</td>\n",
       "      <td>0</td>\n",
       "      <td>True</td>\n",
       "      <td>False</td>\n",
       "      <td>False</td>\n",
       "      <td>False</td>\n",
       "    </tr>\n",
       "  </tbody>\n",
       "</table>\n",
       "<p>5 rows × 45 columns</p>\n",
       "</div>"
      ],
      "text/plain": [
       "      SeniorCitizen    tenure  MonthlyCharges  TotalCharges  gender_Female  \\\n",
       "2142              0 -0.463037        0.002935     -0.417911              0   \n",
       "1623              0  0.880735        1.078118      1.256667              0   \n",
       "6074              0 -1.277445       -1.373033     -0.997797              0   \n",
       "1362              0 -1.155283        0.180747     -0.903088              0   \n",
       "6754              0 -1.318165       -0.095111      0.000000              0   \n",
       "\n",
       "      gender_Male  Partner_No  Partner_Yes  Dependents_No  Dependents_Yes  \\\n",
       "2142            0           0            0              0               0   \n",
       "1623            0           0            0              0               0   \n",
       "6074            0           0            0              0               0   \n",
       "1362            0           0            0              0               0   \n",
       "6754            0           0            0              0               0   \n",
       "\n",
       "      ...  StreamingMovies_Yes  Contract_Month-to-month  Contract_One year  \\\n",
       "2142  ...                    0                    False               True   \n",
       "1623  ...                    0                    False              False   \n",
       "6074  ...                    0                     True              False   \n",
       "1362  ...                    0                     True              False   \n",
       "6754  ...                    0                    False              False   \n",
       "\n",
       "      Contract_Two year  PaperlessBilling_No  PaperlessBilling_Yes  \\\n",
       "2142              False                    0                     0   \n",
       "1623               True                    0                     0   \n",
       "6074              False                    0                     0   \n",
       "1362              False                    0                     0   \n",
       "6754               True                    0                     0   \n",
       "\n",
       "      PaymentMethod_Bank transfer (automatic)  \\\n",
       "2142                                    False   \n",
       "1623                                     True   \n",
       "6074                                    False   \n",
       "1362                                    False   \n",
       "6754                                     True   \n",
       "\n",
       "      PaymentMethod_Credit card (automatic)  PaymentMethod_Electronic check  \\\n",
       "2142                                  False                           False   \n",
       "1623                                  False                           False   \n",
       "6074                                  False                            True   \n",
       "1362                                  False                            True   \n",
       "6754                                  False                           False   \n",
       "\n",
       "      PaymentMethod_Mailed check  \n",
       "2142                        True  \n",
       "1623                       False  \n",
       "6074                       False  \n",
       "1362                       False  \n",
       "6754                       False  \n",
       "\n",
       "[5 rows x 45 columns]"
      ]
     },
     "execution_count": 28,
     "metadata": {},
     "output_type": "execute_result"
    }
   ],
   "source": [
    "X_train.head()"
   ]
  },
  {
   "cell_type": "code",
   "execution_count": null,
   "metadata": {
    "colab": {
     "base_uri": "https://localhost:8080/"
    },
    "id": "Zy84VGzOpoBu",
    "outputId": "cc38618f-aa55-4a31-d5de-ab6307318d50"
   },
   "outputs": [
    {
     "name": "stdout",
     "output_type": "stream",
     "text": [
      "0:\tlearn: 0.6861572\ttotal: 3.64ms\tremaining: 3.63s\n",
      "200:\tlearn: 0.3971411\ttotal: 1.59s\tremaining: 6.33s\n",
      "400:\tlearn: 0.3705830\ttotal: 3.21s\tremaining: 4.79s\n",
      "600:\tlearn: 0.3533564\ttotal: 4.66s\tremaining: 3.09s\n",
      "800:\tlearn: 0.3370003\ttotal: 6.24s\tremaining: 1.55s\n",
      "999:\tlearn: 0.3201227\ttotal: 8.07s\tremaining: 0us\n",
      "Accuracy on Test Set: 81.19%\n"
     ]
    }
   ],
   "source": [
    "\n",
    "# Ensure all required columns are present\n",
    "for col in model_columns:\n",
    "    if col not in df.columns:\n",
    "        df[col] = 0  # Add missing columns with a value of 0\n",
    "\n",
    "\n",
    "\n",
    "# Initialize and train the CatBoostClassifier\n",
    "catboost_model = CatBoostClassifier(iterations=1000, learning_rate=0.01, depth=10, verbose=200)\n",
    "catboost_model.fit(X_train, y_train)\n",
    "\n",
    "# Save the trained model\n",
    "joblib.dump(catboost_model, 'catboost_model.pkl')\n",
    "\n",
    "# Evaluate the model on the test set\n",
    "y_pred = catboost_model.predict(X_test)\n",
    "accuracy = (y_pred == y_test).mean()\n",
    "print(f'Accuracy on Test Set: {accuracy * 100:.2f}%')"
   ]
  },
  {
   "cell_type": "code",
   "execution_count": 21,
   "metadata": {},
   "outputs": [
    {
     "data": {
      "text/plain": [
       "Index(['gender', 'SeniorCitizen', 'Partner', 'Dependents', 'tenure',\n",
       "       'PhoneService', 'OnlineSecurity', 'OnlineBackup', 'DeviceProtection',\n",
       "       'TechSupport', 'StreamingTV', 'StreamingMovies', 'PaperlessBilling',\n",
       "       'MonthlyCharges', 'TotalCharges', 'MultipleLines_No',\n",
       "       'MultipleLines_Yes', 'InternetService_DSL',\n",
       "       'InternetService_Fiber optic', 'InternetService_No',\n",
       "       'Contract_Month-to-month', 'Contract_One year', 'Contract_Two year',\n",
       "       'PaymentMethod_Bank transfer (automatic)',\n",
       "       'PaymentMethod_Credit card (automatic)',\n",
       "       'PaymentMethod_Electronic check', 'PaymentMethod_Mailed check'],\n",
       "      dtype='object')"
      ]
     },
     "execution_count": 21,
     "metadata": {},
     "output_type": "execute_result"
    }
   ],
   "source": [
    "X_train.columns"
   ]
  },
  {
   "cell_type": "code",
   "execution_count": 22,
   "metadata": {},
   "outputs": [
    {
     "data": {
      "text/plain": [
       "['model_columns.pkl']"
      ]
     },
     "execution_count": 22,
     "metadata": {},
     "output_type": "execute_result"
    }
   ],
   "source": [
    "training_columns = X_train.columns.tolist()\n",
    "joblib.dump(training_columns, 'model_columns.pkl')\n"
   ]
  },
  {
   "cell_type": "code",
   "execution_count": 17,
   "metadata": {},
   "outputs": [
    {
     "name": "stdout",
     "output_type": "stream",
     "text": [
      "Model saved as 'catboost_model.pkl'\n"
     ]
    }
   ],
   "source": [
    "import joblib \n",
    "\n",
    "# Save the model using joblib\n",
    "joblib.dump(catboost_model, 'catboost_model.pkl')\n",
    "\n",
    "print(\"Model saved as 'catboost_model.pkl'\")"
   ]
  },
  {
   "cell_type": "code",
   "execution_count": 16,
   "metadata": {
    "colab": {
     "base_uri": "https://localhost:8080/",
     "height": 558
    },
    "id": "wegLv-W6qrah",
    "outputId": "d5a2c987-b15a-4287-c0dc-138be3d60c2f"
   },
   "outputs": [
    {
     "data": {
      "image/png": "[encoded data removed]",
      "text/plain": [
       "<Figure size 1000x600 with 1 Axes>"
      ]
     },
     "metadata": {},
     "output_type": "display_data"
    }
   ],
   "source": [
    "feature_importances = catboost_model.get_feature_importance()\n",
    "features = X_train.columns\n",
    "\n",
    "importance_df = pd.DataFrame({\n",
    "    'Features': features,\n",
    "    'Importance': feature_importances })\n",
    "importance_df = importance_df.sort_values(by='Importance', ascending=False)\n",
    "\n",
    "\n",
    "plt.figure(figsize=(10, 6))\n",
    "sns.barplot(x='Importance', y='Features', data=importance_df)\n",
    "plt.title('Most important Features affecting Churn')\n",
    "plt.xlabel('----------------------------- Importance --------------------->')\n",
    "plt.ylabel('------------------------------ Features ---------------------->')\n",
    "plt.show()"
   ]
  },
  {
   "cell_type": "markdown",
   "metadata": {
    "id": "f0eDSMutvzHS"
   },
   "source": [
    "# **Recommender System**\n",
    "Getting similarity between customer (cosine similarity)\n",
    "\n",
    "Get customer details,customer's current services and prediction\n",
    "\n",
    "Using similarity to generate recommendation based on services used and churn probability"
   ]
  },
  {
   "cell_type": "code",
   "execution_count": 136,
   "metadata": {
    "id": "Jo24lKXSwZI7"
   },
   "outputs": [],
   "source": [
    "def create_customer_profiles(X):\n",
    "    return X\n",
    "\n",
    "\n",
    "def get_similar_customers(customer_profiles, target_customer_idx, n=5):\n",
    "    similarity_matrix = cosine_similarity(customer_profiles)\n",
    "    similar_indices = similarity_matrix[target_customer_idx].argsort()[::-1][1:n+1]\n",
    "    return similar_indices"
   ]
  },
  {
   "cell_type": "code",
   "execution_count": 137,
   "metadata": {
    "id": "sWsCwEkQ6KCP"
   },
   "outputs": [],
   "source": [
    "def generate_recommendations(X, y, customer_profiles, target_customer_idx):\n",
    "    similar_customers = get_similar_customers(customer_profiles, target_customer_idx)\n",
    "    non_churned_similar = [idx for idx in similar_customers if y[idx] == 0]\n",
    "\n",
    "    if not non_churned_similar:\n",
    "        return None\n",
    "    current_customer = X.iloc[target_customer_idx]\n",
    "    similar_customers_data = X.iloc[non_churned_similar]\n",
    "\n",
    "    recommendations = {}\n",
    "    # ...........................Recommendation based on Contract period...............................\n",
    "    contract_columns = [col for col in X.columns if 'Contract_' in col]\n",
    "    current_contract = [col for col in contract_columns if current_customer[col] == 1][0].split('_')[1]\n",
    "    avg_contract_usage = similar_customers_data[contract_columns].mean()\n",
    "    recommended_contract = avg_contract_usage.idxmax().split('_')[1]\n",
    "\n",
    "    if current_contract == 'Month-to-month':\n",
    "        recommendations['Contract'] = \"Consider offering a discounted long-term contract\"\n",
    "\n",
    "    #............................Recommendation based on Internet services used.........................\n",
    "    internet_columns = [col for col in X.columns if 'InternetService_' in col]\n",
    "    current_internet = [col for col in internet_columns if current_customer[col] == 1]\n",
    "    current_internet = current_internet[0].split('_')[1] if current_internet else 'None'\n",
    "\n",
    "    if current_internet == 'DSL':\n",
    "        recommendations['InternetService'] = \"Upgrade to Fiber optic service with a special promotion\"\n",
    "    elif current_internet == 'None':\n",
    "        recommendations['InternetService'] = \"Introduce internet service with a first-time customer discount\"\n",
    "\n",
    "    # ............................Recommendations based on other Additional services....................\n",
    "    if current_customer['OnlineSecurity'] == 0:\n",
    "        recommendations['OnlineSecurity'] = \"Add online security features to the package\"\n",
    "    if current_customer['TechSupport'] == 0:\n",
    "        recommendations['TechSupport'] = \"Include premium technical support\"\n",
    "    if current_customer['DeviceProtection'] == 0:\n",
    "        recommendations['DeviceProtection'] = \"Add device protection plan\"\n",
    "    if current_customer['OnlineBackup'] == 0:\n",
    "        recommendations['OnlineBackup'] = \"Include online backup service\"\n",
    "    if current_customer['StreamingTV'] == 0 & current_customer['StreamingMovies'] == 0:\n",
    "        recommendations['StreamingTV'] = \"Suggest TV & Movies streaming services at discounted prices\"\n",
    "    return recommendations"
   ]
  },
  {
   "cell_type": "code",
   "execution_count": 138,
   "metadata": {
    "id": "R7oN9Sxz77Ga"
   },
   "outputs": [],
   "source": [
    "def get_customer_insights(customer_id, X, y, catboost_model):\n",
    "    if customer_id < 0 or customer_id >= len(X):\n",
    "        return \" !!! Invalid customer ID !!! \"\n",
    "\n",
    "    churn_prob = catboost_model.predict_proba(X.iloc[customer_id:customer_id+1])[0][1]\n",
    "    customer_data = X.iloc[customer_id]\n",
    "\n",
    "    customer_profiles = create_customer_profiles(X)\n",
    "    recommendations = generate_recommendations(X, y, customer_profiles, customer_id)\n",
    "    return {\n",
    "        'churn_probability': churn_prob,\n",
    "        'current_services': parse_current_services(customer_data),\n",
    "        'recommendations': recommendations if recommendations else {}\n",
    "    }\n",
    "\n",
    "def parse_current_services(customer_data):\n",
    "    services = {}\n",
    "    # Contract type\n",
    "    contract_cols = [col for col in customer_data.index if 'Contract_' in col]\n",
    "    for col in contract_cols:\n",
    "        if customer_data[col] == 1:\n",
    "            services['Contract'] = col.split('_')[1]\n",
    "\n",
    "    # Internet service\n",
    "    internet_cols = [col for col in customer_data.index if 'InternetService_' in col]\n",
    "    for col in internet_cols:\n",
    "        if customer_data[col] == 1:\n",
    "            services['InternetService'] = col.split('_')[1]\n",
    "\n",
    "    # Additional services\n",
    "    service_map = {\n",
    "        'OnlineSecurity': 'Online Security',\n",
    "        'OnlineBackup': 'Online Backup',\n",
    "        'DeviceProtection': 'Device Protection',\n",
    "        'TechSupport': 'Tech Support',\n",
    "        'StreamingTV': 'Streaming TV',\n",
    "        'StreamingMovies': 'Streaming Movies'    }\n",
    "\n",
    "    services['AdditionalServices'] = [readable for service, readable in service_map.items()\n",
    "                                     if customer_data[service] == 1]\n",
    "    return services"
   ]
  },
  {
   "cell_type": "code",
   "execution_count": 142,
   "metadata": {
    "colab": {
     "base_uri": "https://localhost:8080/"
    },
    "id": "An3-YEJP_QAq",
    "outputId": "72fd4df1-5c53-47c5-b006-934a2ff0bbff"
   },
   "outputs": [
    {
     "name": "stdout",
     "output_type": "stream",
     "text": [
      "Welcome to the Customer Churn Prevention System\n",
      "This system will provide personalized recommendations to prevent customer churn.\n",
      "\n",
      "Enter customer ID (between 1 to 7043 or (-1) to exit): 1701\n",
      "\n",
      "Customer 1701 Analysis\n",
      "--------------------\n",
      "Costumer Churn Risk: High Risk (89.1% probability)\n",
      "\n",
      "Current Services:\n",
      "Contract Type: One year\n",
      "Internet Service: Fiber optic\n",
      "Additional Services: Online Backup, Device Protection, Streaming TV, Streaming Movies\n",
      "\n",
      "Recommendations to Prevent Churn:\n",
      "- Add online security features to the package\n",
      "- Include premium technical support\n",
      "\n",
      "Enter customer ID (between 1 to 7043 or (-1) to exit): 613\n",
      "\n",
      "Customer 613 Analysis\n",
      "--------------------\n",
      "Costumer Churn Risk: Low Risk (7.3% probability)\n",
      "\n",
      "Current Services:\n",
      "Contract Type: One year\n",
      "Internet Service: Fiber optic\n",
      "Additional Services: Online Security, Online Backup, Device Protection, Streaming TV, Streaming Movies\n",
      "\n",
      "Recommendations to Prevent Churn:\n",
      "- Include premium technical support\n",
      "\n",
      "Enter customer ID (between 1 to 7043 or (-1) to exit): 38\n",
      "\n",
      "Customer 38 Analysis\n",
      "--------------------\n",
      "Costumer Churn Risk: High Risk (96.4% probability)\n",
      "\n",
      "Current Services:\n",
      "Contract Type: Month-to-month\n",
      "Internet Service: Fiber optic\n",
      "Additional Services: Online Backup, Device Protection, Streaming TV, Streaming Movies\n",
      "\n",
      "No specific recommendations at this time.\n",
      "\n",
      "Enter customer ID (between 1 to 7043 or (-1) to exit): 3942\n",
      "\n",
      "Customer 3942 Analysis\n",
      "--------------------\n",
      "Costumer Churn Risk: High Risk (89.0% probability)\n",
      "\n",
      "Current Services:\n",
      "Contract Type: Month-to-month\n",
      "Internet Service: DSL\n",
      "Additional Services: None\n",
      "\n",
      "Recommendations to Prevent Churn:\n",
      "- Consider offering a discounted long-term contract\n",
      "- Upgrade to Fiber optic service with a special promotion\n",
      "- Add online security features to the package\n",
      "- Include premium technical support\n",
      "- Add device protection plan\n",
      "- Include online backup service\n",
      "- Suggest TV & Movies streaming services at discounted prices\n",
      "\n",
      "Enter customer ID (between 1 to 7043 or (-1) to exit): 2411\n",
      "\n",
      "Customer 2411 Analysis\n",
      "--------------------\n",
      "Costumer Churn Risk: Low Risk (0.2% probability)\n",
      "\n",
      "Current Services:\n",
      "Contract Type: Two year\n",
      "Internet Service: DSL\n",
      "Additional Services: Online Security, Device Protection, Tech Support, Streaming TV, Streaming Movies\n",
      "\n",
      "Recommendations to Prevent Churn:\n",
      "- Upgrade to Fiber optic service with a special promotion\n",
      "- Include online backup service\n",
      "\n",
      "Enter customer ID (between 1 to 7043 or (-1) to exit): -1\n",
      "Exiting recommender system...\n",
      "Thank you for using our services\n"
     ]
    }
   ],
   "source": [
    "def interactive_customer_recommendations():\n",
    "    while True:\n",
    "        try:\n",
    "            customer_id = int(input(\"\\nEnter customer ID (between 1 to 7043 or (-1) to exit): \"))\n",
    "            if customer_id == -1:\n",
    "                print(\"Exiting recommender system...\")\n",
    "                print(\"Thank you for using our services\")\n",
    "                break\n",
    "\n",
    "            insights = get_customer_insights(customer_id, X_res, y_res, catboost_model)\n",
    "            if isinstance(insights, str):\n",
    "                print(insights)\n",
    "                continue\n",
    "            print(f\"\\nCustomer {customer_id} Analysis\")\n",
    "            print(\"-\" * 20)\n",
    "\n",
    "#.................................Churn risk category........................................\n",
    "            churn_prob = insights['churn_probability']\n",
    "            if churn_prob < 0.3:\n",
    "                risk_category = \"Low Risk\"\n",
    "            elif churn_prob < 0.6:\n",
    "                risk_category = \"Medium Risk\"\n",
    "            else:\n",
    "                risk_category = \"High Risk\"\n",
    "            print(f\"Costumer Churn Risk: {risk_category} ({churn_prob:.1%} probability)\")\n",
    "\n",
    "#....................................Current services..........................................\n",
    "            print(\"\\nCurrent Services:\")\n",
    "            current = insights['current_services']\n",
    "            print(f\"Contract Type: {current['Contract']}\")\n",
    "            print(f\"Internet Service: {current.get('InternetService', 'None')}\")\n",
    "            if current['AdditionalServices']:\n",
    "                print(\"Additional Services:\", \", \".join(current['AdditionalServices']))\n",
    "            else:\n",
    "                print(\"Additional Services: None\")\n",
    "\n",
    "            if insights['recommendations']:\n",
    "                print(\"\\nRecommendations to Prevent Churn:\")\n",
    "                for category, recommendation in insights['recommendations'].items():\n",
    "                    print(f\"- {recommendation}\")\n",
    "            else:\n",
    "                print(\"\\nNo specific recommendations at this time.\")\n",
    "\n",
    "        except ValueError:\n",
    "            print(\"enter valid customer ID (numeric value)\")\n",
    "\n",
    "print(\"Welcome to the Customer Churn Prevention System\")\n",
    "print(\"This system will provide personalized recommendations to prevent customer churn.\")\n",
    "interactive_customer_recommendations()"
   ]
  }
 ],
 "metadata": {
  "accelerator": "GPU",
  "colab": {
   "gpuType": "T4",
   "provenance": []
  },
  "kernelspec": {
   "display_name": ".venv",
   "language": "python",
   "name": "python3"
  },
  "language_info": {
   "codemirror_mode": {
    "name": "ipython",
    "version": 3
   },
   "file_extension": ".py",
   "mimetype": "text/x-python",
   "name": "python",
   "nbconvert_exporter": "python",
   "pygments_lexer": "ipython3",
   "version": "3.12.7"
  }
 },
 "nbformat": 4,
 "nbformat_minor": 0
}
