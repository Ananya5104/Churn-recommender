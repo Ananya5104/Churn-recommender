{
 "cells": [
  {
   "cell_type": "code",
   "execution_count": 4,
   "metadata": {},
   "outputs": [
    {
     "name": "stderr",
     "output_type": "stream",
     "text": [
      "C:\\Users\\Ananya\\AppData\\Local\\Temp\\ipykernel_58488\\951359587.py:17: FutureWarning: A value is trying to be set on a copy of a DataFrame or Series through chained assignment using an inplace method.\n",
      "The behavior will change in pandas 3.0. This inplace method will never work because the intermediate object on which we are setting values always behaves as a copy.\n",
      "\n",
      "For example, when doing 'df[col].method(value, inplace=True)', try using 'df.method({col: value}, inplace=True)' or df[col] = df[col].method(value) instead, to perform the operation inplace on the original object.\n",
      "\n",
      "\n",
      "  df['TotalCharges'].fillna(df['TotalCharges'].mean(), inplace=True)\n",
      "C:\\Users\\Ananya\\AppData\\Local\\Temp\\ipykernel_58488\\951359587.py:29: FutureWarning: Downcasting behavior in `replace` is deprecated and will be removed in a future version. To retain the old behavior, explicitly call `result.infer_objects(copy=False)`. To opt-in to the future behavior, set `pd.set_option('future.no_silent_downcasting', True)`\n",
      "  df[col] = df[col].replace({'Yes': 1, 'No': 0})\n"
     ]
    },
    {
     "name": "stdout",
     "output_type": "stream",
     "text": [
      "Accuracy of CatBoost Model after SMOTE: 0.8371980676328502\n"
     ]
    }
   ],
   "source": [
    "import pandas as pd\n",
    "import numpy as np\n",
    "from sklearn.preprocessing import StandardScaler, LabelEncoder\n",
    "from catboost import CatBoostClassifier\n",
    "from sklearn.metrics import accuracy_score\n",
    "from sklearn.model_selection import train_test_split\n",
    "from imblearn.over_sampling import SMOTE\n",
    "\n",
    "# Load the dataset\n",
    "df = pd.read_csv('WA_Fn-UseC_-Telco-Customer-Churn.csv')\n",
    "\n",
    "# Drop the 'customerID' column\n",
    "df.drop('customerID', axis=1, inplace=True)\n",
    "\n",
    "# Convert 'TotalCharges' to numeric and handle errors\n",
    "df['TotalCharges'] = pd.to_numeric(df['TotalCharges'], errors='coerce')\n",
    "df['TotalCharges'].fillna(df['TotalCharges'].mean(), inplace=True)\n",
    "\n",
    "# Replace 'No phone service' and 'No internet service' with 'No'\n",
    "df['MultipleLines'] = df['MultipleLines'].replace('No phone service', 'No')\n",
    "internet_columns = ['MultipleLines', 'InternetService', 'OnlineSecurity', 'OnlineBackup',\n",
    "                    'DeviceProtection', 'TechSupport', 'StreamingTV', 'StreamingMovies']\n",
    "for col in internet_columns:\n",
    "    df[col] = df[col].replace('No internet service', 'No')\n",
    "\n",
    "# Replace 'Yes'/'No' with 1/0 for binary columns\n",
    "def replace_yes_no(df, columns):\n",
    "    for col in columns:\n",
    "        df[col] = df[col].replace({'Yes': 1, 'No': 0})\n",
    "\n",
    "columns_to_replace = [\n",
    "    \"Partner\", \"Dependents\", \"PhoneService\", \"OnlineSecurity\", \"OnlineBackup\",\n",
    "    \"DeviceProtection\", \"TechSupport\", \"StreamingTV\", \"StreamingMovies\",\n",
    "    \"PaperlessBilling\", \"Churn\"\n",
    "]\n",
    "\n",
    "replace_yes_no(df, columns_to_replace)\n",
    "\n",
    "# Label encode 'gender' column\n",
    "binary_columns = ['gender']\n",
    "le = LabelEncoder()\n",
    "df[binary_columns] = df[binary_columns].apply(le.fit_transform)\n",
    "\n",
    "# One-hot encode categorical variables\n",
    "df = pd.get_dummies(df, columns=['MultipleLines', 'InternetService', 'Contract', 'PaymentMethod'])\n",
    "\n",
    "# Standardize numerical features\n",
    "scaler = StandardScaler()\n",
    "numerical_features = ['tenure', 'MonthlyCharges', 'TotalCharges']\n",
    "df[numerical_features] = scaler.fit_transform(df[numerical_features])\n",
    "\n",
    "# Define model columns\n",
    "model_columns = ['SeniorCitizen', 'tenure', 'MonthlyCharges', 'TotalCharges',\n",
    "       'gender_Female', 'gender_Male', 'Partner_No', 'Partner_Yes',\n",
    "       'Dependents_No', 'Dependents_Yes', 'PhoneService_No',\n",
    "       'PhoneService_Yes', 'MultipleLines_No', 'MultipleLines_No phone service', \n",
    "       'MultipleLines_Yes', 'InternetService_DSL', 'InternetService_Fiber optic',\n",
    "       'InternetService_No', 'OnlineSecurity_No', 'OnlineSecurity_No internet service', \n",
    "       'OnlineSecurity_Yes', 'OnlineBackup_No', 'OnlineBackup_No internet service',\n",
    "       'OnlineBackup_Yes', 'DeviceProtection_No', 'DeviceProtection_No internet service', \n",
    "       'DeviceProtection_Yes', 'TechSupport_No', 'TechSupport_No internet service', \n",
    "       'TechSupport_Yes', 'StreamingTV_No', 'StreamingTV_No internet service', 'StreamingTV_Yes',\n",
    "       'StreamingMovies_No', 'StreamingMovies_No internet service', 'StreamingMovies_Yes',\n",
    "       'Contract_Month-to-month', 'Contract_One year', 'Contract_Two year', 'PaperlessBilling_No', \n",
    "       'PaperlessBilling_Yes', 'PaymentMethod_Bank transfer (automatic)',\n",
    "       'PaymentMethod_Credit card (automatic)', 'PaymentMethod_Electronic check', 'PaymentMethod_Mailed check']\n",
    "\n",
    "# Ensure all required columns are present\n",
    "for col in model_columns:\n",
    "    if col not in df.columns:\n",
    "        df[col] = 0  # Add missing columns with a value of 0\n",
    "\n",
    "# Reorder columns to match the model columns\n",
    "df = df[model_columns + ['Churn']]  # Add the target column 'Churn' at the end\n",
    "\n",
    "# Split data into features (X) and target (y)\n",
    "X = df.drop('Churn', axis=1)\n",
    "y = df['Churn']\n",
    "\n",
    "# Apply SMOTE to handle class imbalance\n",
    "smote = SMOTE(random_state=42)\n",
    "X_res, y_res = smote.fit_resample(X, y)\n",
    "\n",
    "# Split data into training and test sets\n",
    "X_train, X_test, y_train, y_test = train_test_split(X_res, y_res, test_size=0.2, random_state=42)\n",
    "\n",
    "# Initialize and train the CatBoost model\n",
    "catboost_model = CatBoostClassifier(iterations=1000, depth=6, learning_rate=0.1, loss_function='Logloss', verbose=0)\n",
    "catboost_model.fit(X_train, y_train)\n",
    "\n",
    "# Make predictions and calculate accuracy\n",
    "y_pred = catboost_model.predict(X_test)\n",
    "accuracy = accuracy_score(y_test, y_pred)\n",
    "print(\"Accuracy of CatBoost Model after SMOTE:\", accuracy)\n"
   ]
  },
  {
   "cell_type": "code",
   "execution_count": 5,
   "metadata": {},
   "outputs": [
    {
     "data": {
      "text/plain": [
       "['catboost_model.pkl']"
      ]
     },
     "execution_count": 5,
     "metadata": {},
     "output_type": "execute_result"
    }
   ],
   "source": [
    "import joblib\n",
    "\n",
    "# Save the trained model using joblib\n",
    "joblib.dump(catboost_model, 'catboost_model.pkl')\n"
   ]
  }
 ],
 "metadata": {
  "accelerator": "GPU",
  "colab": {
   "gpuType": "T4",
   "provenance": []
  },
  "kernelspec": {
   "display_name": ".venv",
   "language": "python",
   "name": "python3"
  },
  "language_info": {
   "codemirror_mode": {
    "name": "ipython",
    "version": 3
   },
   "file_extension": ".py",
   "mimetype": "text/x-python",
   "name": "python",
   "nbconvert_exporter": "python",
   "pygments_lexer": "ipython3",
   "version": "3.12.7"
  }
 },
 "nbformat": 4,
 "nbformat_minor": 0
}
